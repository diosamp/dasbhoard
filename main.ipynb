{
 "cells": [
  {
   "cell_type": "code",
   "execution_count": 5,
   "metadata": {},
   "outputs": [
    {
     "name": "stdout",
     "output_type": "stream",
     "text": [
      "Fetching fresh data from API...\n",
      "Retrieved 558 open trades\n",
      "Data saved to ../data/trades_data.json\n",
      "Retrieved latest prices data\n"
     ]
    }
   ],
   "source": [
    "\n",
    "from src.data_processing import load_open_trades, clean_open_trades, get_open_trades_uPnl, compute_uPnl\n",
    "import pandas as pd\n",
    "# Load data - only force update when refresh button is clicked or auto-refresh is enabled\n",
    "df = load_open_trades(updateInterval_min=1, forceUpdate=True)\n",
    "df = clean_open_trades(df)\n",
    "# Get latest uPnL data\n",
    "df = get_open_trades_uPnl(df)\n"
   ]
  },
  {
   "cell_type": "code",
   "execution_count": 6,
   "metadata": {},
   "outputs": [
    {
     "data": {
      "text/plain": [
       "-0.0"
      ]
     },
     "execution_count": 6,
     "metadata": {},
     "output_type": "execute_result"
    }
   ],
   "source": [
    "compute_uPnl(147.432500, 143.622500, False, 149910.000)\n",
    "\n",
    "#df[df['uPnl'] == 0]"
   ]
  },
  {
   "cell_type": "code",
   "execution_count": null,
   "metadata": {},
   "outputs": [],
   "source": []
  }
 ],
 "metadata": {
  "kernelspec": {
   "display_name": "venv",
   "language": "python",
   "name": "python3"
  },
  "language_info": {
   "codemirror_mode": {
    "name": "ipython",
    "version": 3
   },
   "file_extension": ".py",
   "mimetype": "text/x-python",
   "name": "python",
   "nbconvert_exporter": "python",
   "pygments_lexer": "ipython3",
   "version": "3.10.6"
  }
 },
 "nbformat": 4,
 "nbformat_minor": 2
}
